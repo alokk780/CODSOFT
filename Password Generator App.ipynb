{
 "cells": [
  {
   "cell_type": "markdown",
   "id": "08300a10-bda2-4ef5-a561-631bb64df37c",
   "metadata": {},
   "source": [
    "# Password Generator App."
   ]
  },
  {
   "cell_type": "code",
   "execution_count": 3,
   "id": "536fa5d4-6065-4108-a4aa-54f3326de5a5",
   "metadata": {},
   "outputs": [],
   "source": [
    "import tkinter as tk\n",
    "import random\n",
    "import string\n",
    "\n",
    "def generate_password(length, use_uppercase, use_numbers, use_special):\n",
    "    characters = string.ascii_lowercase  # Always include lowercase letters\n",
    "\n",
    "    if use_uppercase:\n",
    "        characters += string.ascii_uppercase\n",
    "    if use_numbers:\n",
    "        characters += string.digits\n",
    "    if use_special:\n",
    "        characters += string.punctuation\n",
    "\n",
    "    if length < 1 or len(characters) == 0:\n",
    "        return \"Invalid input\"\n",
    "\n",
    "    password = ''.join(random.choice(characters) for _ in range(length))\n",
    "    return password\n",
    "\n",
    "def on_generate():\n",
    "    try:\n",
    "        length = int(length_entry.get())\n",
    "        use_uppercase = uppercase_var.get()\n",
    "        use_numbers = numbers_var.get()\n",
    "        use_special = special_var.get()\n",
    "\n",
    "        password = generate_password(length, use_uppercase, use_numbers, use_special)\n",
    "        result_label.config(text=password)\n",
    "    except ValueError:\n",
    "        result_label.config(text=\"Please enter a valid length\")\n",
    "\n",
    "# Create the main window\n",
    "root = tk.Tk()\n",
    "root.title(\"Password Generator\")\n",
    "\n",
    "# Length input\n",
    "length_label = tk.Label(root, text=\"Password Length:\")\n",
    "length_label.pack()\n",
    "length_entry = tk.Entry(root)\n",
    "length_entry.pack()\n",
    "\n",
    "# Complexity options\n",
    "uppercase_var = tk.BooleanVar()\n",
    "uppercase_check = tk.Checkbutton(root, text=\"Include Uppercase Letters\", variable=uppercase_var)\n",
    "uppercase_check.pack()\n",
    "\n",
    "numbers_var = tk.BooleanVar()\n",
    "numbers_check = tk.Checkbutton(root, text=\"Include Numbers\", variable=numbers_var)\n",
    "numbers_check.pack()\n",
    "\n",
    "special_var = tk.BooleanVar()\n",
    "special_check = tk.Checkbutton(root, text=\"Include Special Characters\", variable=special_var)\n",
    "special_check.pack()\n",
    "\n",
    "# Generate button\n",
    "generate_button = tk.Button(root, text=\"Generate Password\", command=on_generate)\n",
    "generate_button.pack()\n",
    "\n",
    "# Result label\n",
    "result_label = tk.Label(root, text=\"\", font=(\"Helvetica\", 16))\n",
    "result_label.pack()\n",
    "\n",
    "# Start the GUI event loop\n",
    "root.mainloop()"
   ]
  },
  {
   "cell_type": "code",
   "execution_count": null,
   "id": "2d7c7538-11e2-463a-b8f5-2f4232a7a067",
   "metadata": {},
   "outputs": [],
   "source": []
  },
  {
   "cell_type": "code",
   "execution_count": null,
   "id": "069d401f-126f-4bd9-bd13-7a0ca673c6c5",
   "metadata": {},
   "outputs": [],
   "source": []
  }
 ],
 "metadata": {
  "kernelspec": {
   "display_name": "Python 3 (ipykernel)",
   "language": "python",
   "name": "python3"
  },
  "language_info": {
   "codemirror_mode": {
    "name": "ipython",
    "version": 3
   },
   "file_extension": ".py",
   "mimetype": "text/x-python",
   "name": "python",
   "nbconvert_exporter": "python",
   "pygments_lexer": "ipython3",
   "version": "3.12.5"
  }
 },
 "nbformat": 4,
 "nbformat_minor": 5
}
